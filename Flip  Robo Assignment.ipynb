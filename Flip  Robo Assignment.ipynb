{
 "cells": [
  {
   "cell_type": "code",
   "execution_count": 4,
   "id": "24ff12b5",
   "metadata": {},
   "outputs": [
    {
     "name": "stdout",
     "output_type": "stream",
     "text": [
      "Python:Exercise:PHP:exercise:\n"
     ]
    }
   ],
   "source": [
    "# Q.1. Write a Python program to replace all occurance of a space,comma,or dot with a colon.\n",
    "\n",
    "import re\n",
    "\n",
    "text = 'Python Exercise,PHP exercise.'\n",
    "updated__text = re.sub(r'[ ,.]',':',text)\n",
    "print(updated__text)\n",
    "\n"
   ]
  },
  {
   "cell_type": "code",
   "execution_count": 5,
   "id": "cb7bfb08",
   "metadata": {},
   "outputs": [
    {
     "name": "stdout",
     "output_type": "stream",
     "text": [
      "       SUMMARY\n",
      "0   helloworld\n",
      "1    XXXX test\n",
      "2  fourfivesix\n"
     ]
    }
   ],
   "source": [
    "# Q.2.Create a dataframe using the dictionary below and remove everything (commas(,),!,XXXX,;,etc.)from the coloums except words.\n",
    "\n",
    "import pandas as pd\n",
    "import re \n",
    "\n",
    "data= {'SUMMARY': ['hello,world!','XXXX test','123four,five:;six...']}\n",
    "df=pd.DataFrame(data)\n",
    "\n",
    "def clean_text(text):\n",
    "    return re.sub(r'[^a-zA-Z\\s]', '', text)\n",
    "\n",
    "df['SUMMARY'] = df['SUMMARY'].apply(clean_text)\n",
    "print(df)"
   ]
  },
  {
   "cell_type": "code",
   "execution_count": 6,
   "id": "9012e6c6",
   "metadata": {},
   "outputs": [
    {
     "name": "stdout",
     "output_type": "stream",
     "text": [
      "['This', 'simple', 'test', 'given', 'students']\n"
     ]
    }
   ],
   "source": [
    "# Q.3.Create a function in python to find all words that are at least 4 characters long in a string\n",
    "\n",
    "import re\n",
    "\n",
    "def find_words(text):\n",
    "    pattern = re.compile(r'\\b\\w{4,}\\b')\n",
    "    return pattern.findall(text)\n",
    "\n",
    "text = \"This is a simple test given by the students\"\n",
    "print(find_words(text))"
   ]
  },
  {
   "cell_type": "code",
   "execution_count": 5,
   "id": "ab5cdc94",
   "metadata": {},
   "outputs": [
    {
     "name": "stdout",
     "output_type": "stream",
     "text": [
      "['his']\n",
      "['This', 'text', 'with']\n",
      "['words']\n"
     ]
    }
   ],
   "source": [
    "import re\n",
    "\n",
    "def find_specific_length_words(text, length):\n",
    "    pattern = re.compile(r'\\b\\w{%d}\\b' % length)\n",
    "    return pattern.findall(text)\n",
    "\n",
    "text = \"This is a sample his text with words of different lengths\"\n",
    "print(find_specific_length_words(text, 3))\n",
    "print(find_specific_length_words(text, 4))\n",
    "print(find_specific_length_words(text, 5))"
   ]
  },
  {
   "cell_type": "code",
   "execution_count": 6,
   "id": "9f8b9de8",
   "metadata": {},
   "outputs": [
    {
     "name": "stdout",
     "output_type": "stream",
     "text": [
      "['example .com', 'hr@fliprobo .com', 'github .com', 'Hello Data Science World', 'Data Scientist']\n"
     ]
    }
   ],
   "source": [
    "# 5- Create a function in Python to remove the parenthesis in a list of strings. The use of the re.compile() method is mandatory.\n",
    "\n",
    "import re\n",
    "\n",
    "def remove_parenthesis(strings):\n",
    "    pattern = re.compile(r\"\\(|\\)\")\n",
    "    return [pattern.sub('', s) for s in strings]\n",
    "\n",
    "sample_text = [\"example (.com)\", \"hr@fliprobo (.com)\", \"github (.com)\", \"Hello (Data Science World)\", \"Data (Scientist)\"]\n",
    "print(remove_parenthesis(sample_text))"
   ]
  },
  {
   "cell_type": "code",
   "execution_count": 2,
   "id": "ac5007ff",
   "metadata": {},
   "outputs": [
    {
     "name": "stdout",
     "output_type": "stream",
     "text": [
      "['example', 'hr@fliprobo', 'github', 'Hello', 'Data']\n"
     ]
    }
   ],
   "source": [
    "# Q.6. Write a python program to remove the parenthesis area from the text stored in the text file using Expression.\n",
    "\n",
    "import re\n",
    "\n",
    "def remove_parenthesis_area_from_file(file_path):\n",
    "    with open(file_path, 'r') as file:\n",
    "        lines = file.readlines()\n",
    "    \n",
    "    pattern = re.compile(r'\\s*\\([^)]*\\)')\n",
    "    cleaned_lines = [pattern.sub('', line).strip() for line in lines]\n",
    "    \n",
    "    return cleaned_lines\n",
    "\n",
    "sample_text = [\"example (.com)\", \"hr@fliprobo (.com)\", \"github (.com)\", \"Hello (Data Science World)\", \"Data (Scientist)\"]\n",
    "with open('sample_parenthesis.txt', 'w') as file:\n",
    "    file.write(\"\\n\".join(sample_text))\n",
    "\n",
    "\n",
    "print(remove_parenthesis_area_from_file('sample_parenthesis.txt'))\n"
   ]
  },
  {
   "cell_type": "code",
   "execution_count": 7,
   "id": "79e64de3",
   "metadata": {},
   "outputs": [
    {
     "name": "stdout",
     "output_type": "stream",
     "text": [
      "['Importance', 'Of', 'Regular', 'Expressions', 'In', 'Python']\n"
     ]
    }
   ],
   "source": [
    "# Q.7. Write a regular expression in Python to split a string into uppercase letter.\n",
    "\n",
    "import re \n",
    "\n",
    "def split_by_uppercase(text):\n",
    "    return re.findall(r'[A-Z][^A-Z]*',text)\n",
    "\n",
    "sample_text = \"ImportanceOfRegularExpressionsInPython\"\n",
    "\n",
    "A=split_by_uppercase(sample_text )\n",
    "\n",
    "print(A)"
   ]
  },
  {
   "cell_type": "code",
   "execution_count": 8,
   "id": "5c4c67e0",
   "metadata": {},
   "outputs": [
    {
     "name": "stdout",
     "output_type": "stream",
     "text": [
      "RegularExpression1 IsAn2 ImportantTopic3 InPython\n"
     ]
    }
   ],
   "source": [
    "# Q.8. Create a function in python to insert spaces between words starting with number.\n",
    "\n",
    "import re\n",
    "\n",
    "def insert_spaces(text):\n",
    "    pattern = r'(\\d+)([A-Za-z]+)'\n",
    "    result = re.sub(pattern,r'\\1 \\2', text)\n",
    "    return result\n",
    "\n",
    "text = \"RegularExpression1IsAn2ImportantTopic3InPython\"\n",
    "output = insert_spaces(text)\n",
    "\n",
    "print(output)"
   ]
  },
  {
   "cell_type": "code",
   "execution_count": 9,
   "id": "0b9833af",
   "metadata": {},
   "outputs": [
    {
     "name": "stdout",
     "output_type": "stream",
     "text": [
      "RegularExpression1 IsAn2 ImportantTopic3 InPython\n"
     ]
    }
   ],
   "source": [
    "# Q.9. Create a function in python to insert spaces between words starting with capital letters or with numbers.\n",
    "\n",
    "import re\n",
    "\n",
    "def insert_spaces_numbers(text):\n",
    "    pattern = r'([A-Z][a-z0-9]+)'\n",
    "    result = re.sub(pattern,r'\\1',text)\n",
    "    \n",
    "    result = result.strip()\n",
    "    return result\n",
    "\n",
    "text = \"RegularExpression1IsAn2ImportantTopic3InPython\"\n",
    "output = insert_spaces(text)\n",
    "\n",
    "print(output)\n"
   ]
  },
  {
   "cell_type": "code",
   "execution_count": 41,
   "id": "7e222bb0",
   "metadata": {},
   "outputs": [
    {
     "data": {
      "text/html": [
       "<div>\n",
       "<style scoped>\n",
       "    .dataframe tbody tr th:only-of-type {\n",
       "        vertical-align: middle;\n",
       "    }\n",
       "\n",
       "    .dataframe tbody tr th {\n",
       "        vertical-align: top;\n",
       "    }\n",
       "\n",
       "    .dataframe thead th {\n",
       "        text-align: right;\n",
       "    }\n",
       "</style>\n",
       "<table border=\"1\" class=\"dataframe\">\n",
       "  <thead>\n",
       "    <tr style=\"text-align: right;\">\n",
       "      <th></th>\n",
       "      <th>Country</th>\n",
       "      <th>Region</th>\n",
       "      <th>Happiness Rank</th>\n",
       "      <th>Happiness Score</th>\n",
       "      <th>Standard Error</th>\n",
       "      <th>Economy (GDP per Capita)</th>\n",
       "      <th>Family</th>\n",
       "      <th>Health (Life Expectancy)</th>\n",
       "      <th>Freedom</th>\n",
       "      <th>Trust (Government Corruption)</th>\n",
       "      <th>Generosity</th>\n",
       "      <th>Dystopia Residual</th>\n",
       "      <th>first_five_letter</th>\n",
       "    </tr>\n",
       "  </thead>\n",
       "  <tbody>\n",
       "    <tr>\n",
       "      <th>0</th>\n",
       "      <td>Switzerland</td>\n",
       "      <td>Western Europe</td>\n",
       "      <td>1</td>\n",
       "      <td>7.587</td>\n",
       "      <td>0.03411</td>\n",
       "      <td>1.39651</td>\n",
       "      <td>1.34951</td>\n",
       "      <td>0.94143</td>\n",
       "      <td>0.66557</td>\n",
       "      <td>0.41978</td>\n",
       "      <td>0.29678</td>\n",
       "      <td>2.51738</td>\n",
       "      <td>Switze</td>\n",
       "    </tr>\n",
       "    <tr>\n",
       "      <th>1</th>\n",
       "      <td>Iceland</td>\n",
       "      <td>Western Europe</td>\n",
       "      <td>2</td>\n",
       "      <td>7.561</td>\n",
       "      <td>0.04884</td>\n",
       "      <td>1.30232</td>\n",
       "      <td>1.40223</td>\n",
       "      <td>0.94784</td>\n",
       "      <td>0.62877</td>\n",
       "      <td>0.14145</td>\n",
       "      <td>0.43630</td>\n",
       "      <td>2.70201</td>\n",
       "      <td>Icelan</td>\n",
       "    </tr>\n",
       "    <tr>\n",
       "      <th>2</th>\n",
       "      <td>Denmark</td>\n",
       "      <td>Western Europe</td>\n",
       "      <td>3</td>\n",
       "      <td>7.527</td>\n",
       "      <td>0.03328</td>\n",
       "      <td>1.32548</td>\n",
       "      <td>1.36058</td>\n",
       "      <td>0.87464</td>\n",
       "      <td>0.64938</td>\n",
       "      <td>0.48357</td>\n",
       "      <td>0.34139</td>\n",
       "      <td>2.49204</td>\n",
       "      <td>Denmar</td>\n",
       "    </tr>\n",
       "    <tr>\n",
       "      <th>3</th>\n",
       "      <td>Norway</td>\n",
       "      <td>Western Europe</td>\n",
       "      <td>4</td>\n",
       "      <td>7.522</td>\n",
       "      <td>0.03880</td>\n",
       "      <td>1.45900</td>\n",
       "      <td>1.33095</td>\n",
       "      <td>0.88521</td>\n",
       "      <td>0.66973</td>\n",
       "      <td>0.36503</td>\n",
       "      <td>0.34699</td>\n",
       "      <td>2.46531</td>\n",
       "      <td>Norway</td>\n",
       "    </tr>\n",
       "    <tr>\n",
       "      <th>4</th>\n",
       "      <td>Canada</td>\n",
       "      <td>North America</td>\n",
       "      <td>5</td>\n",
       "      <td>7.427</td>\n",
       "      <td>0.03553</td>\n",
       "      <td>1.32629</td>\n",
       "      <td>1.32261</td>\n",
       "      <td>0.90563</td>\n",
       "      <td>0.63297</td>\n",
       "      <td>0.32957</td>\n",
       "      <td>0.45811</td>\n",
       "      <td>2.45176</td>\n",
       "      <td>Canada</td>\n",
       "    </tr>\n",
       "  </tbody>\n",
       "</table>\n",
       "</div>"
      ],
      "text/plain": [
       "       Country          Region  Happiness Rank  Happiness Score  \\\n",
       "0  Switzerland  Western Europe               1            7.587   \n",
       "1      Iceland  Western Europe               2            7.561   \n",
       "2      Denmark  Western Europe               3            7.527   \n",
       "3       Norway  Western Europe               4            7.522   \n",
       "4       Canada   North America               5            7.427   \n",
       "\n",
       "   Standard Error  Economy (GDP per Capita)   Family  \\\n",
       "0         0.03411                   1.39651  1.34951   \n",
       "1         0.04884                   1.30232  1.40223   \n",
       "2         0.03328                   1.32548  1.36058   \n",
       "3         0.03880                   1.45900  1.33095   \n",
       "4         0.03553                   1.32629  1.32261   \n",
       "\n",
       "   Health (Life Expectancy)  Freedom  Trust (Government Corruption)  \\\n",
       "0                   0.94143  0.66557                        0.41978   \n",
       "1                   0.94784  0.62877                        0.14145   \n",
       "2                   0.87464  0.64938                        0.48357   \n",
       "3                   0.88521  0.66973                        0.36503   \n",
       "4                   0.90563  0.63297                        0.32957   \n",
       "\n",
       "   Generosity  Dystopia Residual first_five_letter  \n",
       "0     0.29678            2.51738            Switze  \n",
       "1     0.43630            2.70201            Icelan  \n",
       "2     0.34139            2.49204            Denmar  \n",
       "3     0.34699            2.46531            Norway  \n",
       "4     0.45811            2.45176            Canada  "
      ]
     },
     "execution_count": 41,
     "metadata": {},
     "output_type": "execute_result"
    }
   ],
   "source": [
    "# Question 10- Use the github link below to read the data and create a dataframe. After creating the dataframe extract the first 6 letters of each country and store in the dataframe under a new column called first_five_letters.\n",
    "\n",
    "import pandas as pd\n",
    "\n",
    "url = \"https://raw.githubusercontent.com/dsrscientist/DSData/master/happiness_score_dataset.csv\"\n",
    "df = pd.read_csv(url)\n",
    "\n",
    "df['first_five_letter'] = df['Country'].apply(lambda x:x[:6])\n",
    "\n",
    "df.head()"
   ]
  },
  {
   "cell_type": "code",
   "execution_count": 3,
   "id": "43e8c1ba",
   "metadata": {},
   "outputs": [
    {
     "name": "stdout",
     "output_type": "stream",
     "text": [
      "True\n",
      "False\n"
     ]
    }
   ],
   "source": [
    "# Question 11- Write a Python program to match a string that contains only upper and lowercase letters, numbers, and underscores.\n",
    "\n",
    "import re\n",
    "\n",
    "def match_string(s):\n",
    "    pattern = re.compile(r'^\\w+$')\n",
    "    return bool(pattern.match(s))\n",
    "\n",
    "test_string = \"Adit_Vish123\"\n",
    "print(match_string(test_string))  \n",
    "\n",
    "test_string = \"Adit Vish!\"\n",
    "print(match_string(test_string))  "
   ]
  },
  {
   "cell_type": "code",
   "execution_count": 4,
   "id": "e19f34ef",
   "metadata": {},
   "outputs": [
    {
     "name": "stdout",
     "output_type": "stream",
     "text": [
      "True\n"
     ]
    }
   ],
   "source": [
    "# Question 12- Write a Python program where a string will start with a specific number.\n",
    "\n",
    "import re\n",
    "\n",
    "def start_with_number(text, number):\n",
    "    return re.match(r'^{}.*'.format(number), text) is not None\n",
    "\n",
    "input_string = \"123AditVish\"\n",
    "number_to_start_with = \"123\"\n",
    "output = start_with_number(input_string, number_to_start_with)\n",
    "\n",
    "print(output)"
   ]
  },
  {
   "cell_type": "code",
   "execution_count": 5,
   "id": "6a1208cf",
   "metadata": {},
   "outputs": [
    {
     "name": "stdout",
     "output_type": "stream",
     "text": [
      "123.456.1.2\n"
     ]
    }
   ],
   "source": [
    "# Question 13- Write a Python program to remove leading zeros from an IP address\n",
    "\n",
    "def remove_leading_zeros(ip_address):\n",
    "  \n",
    "  octets = ip_address.split('.')\n",
    "\n",
    "  octets = [str(int(octet)) for octet in octets]\n",
    "\n",
    "  new_ip_address = '.'.join(octets)\n",
    "\n",
    "  return new_ip_address\n",
    "\n",
    "ip_address = '123.456.001.002'\n",
    "new_ip_address = remove_leading_zeros(ip_address)\n",
    "print(new_ip_address)"
   ]
  },
  {
   "cell_type": "code",
   "execution_count": 13,
   "id": "df2a760a",
   "metadata": {},
   "outputs": [
    {
     "name": "stdout",
     "output_type": "stream",
     "text": [
      "August 15th 1947\n"
     ]
    }
   ],
   "source": [
    "# Question 14- Write a regular expression in python to match a date string in the form of Month name followed by day number and year stored in a text file.\n",
    "\n",
    "\n",
    "import re\n",
    "\n",
    "text = \"On August 15th 1947 that India was declared independent from British colonialism, and the reins of control were handed over to the leaders of the Country.\"\n",
    "\n",
    "pattern = r\"\\b([A-Z][a-z]+ \\d{1,2}(?:st|nd|rd|th)? \\d{4})\\b\"\n",
    "\n",
    "matches = re.findall(pattern, text)\n",
    "date_string = matches[0] if matches else None\n",
    "\n",
    "print(date_string)\n"
   ]
  },
  {
   "cell_type": "code",
   "execution_count": 17,
   "id": "cc102eba",
   "metadata": {},
   "outputs": [
    {
     "name": "stdout",
     "output_type": "stream",
     "text": [
      "'fox' found in the text.\n",
      "'dog' found in the text.\n",
      "'horse' not found in the text.\n"
     ]
    }
   ],
   "source": [
    "# Question 15- Write a Python program to search some literals strings in a string. \n",
    "\n",
    "import re\n",
    "\n",
    "text = 'The quick brown fox jumps over the lazy dog.'\n",
    "searched_words = ['fox', 'dog', 'horse']\n",
    "\n",
    "for word in searched_words:\n",
    "    if re.search(word, text):\n",
    "        print(f\"'{word}' found in the text.\")\n",
    "    else:\n",
    "        print(f\"'{word}' not found in the text.\")\n"
   ]
  },
  {
   "cell_type": "code",
   "execution_count": 10,
   "id": "1cb11266",
   "metadata": {},
   "outputs": [
    {
     "name": "stdout",
     "output_type": "stream",
     "text": [
      "'fox' found at position 16.\n"
     ]
    }
   ],
   "source": [
    "# Question 16- Write a Python program to search a literals string in a string and also find the location within the original string where the pattern occurs\n",
    "\n",
    "import re\n",
    "\n",
    "text = 'The quick brown fox jumps over the lazy dog.'\n",
    "searched_word = 'fox'\n",
    "\n",
    "match = re.search(searched_word, text)\n",
    "\n",
    "if match:\n",
    "    print(f\"'{searched_word}' found at position {match.start()}.\")\n",
    "else:\n",
    "    print(f\"'{searched_word}' not found in the text.\")"
   ]
  },
  {
   "cell_type": "code",
   "execution_count": 9,
   "id": "9daa3812",
   "metadata": {},
   "outputs": [
    {
     "name": "stdout",
     "output_type": "stream",
     "text": [
      "Found \"exercises\"\n",
      "Found \"exercises\"\n",
      "Found \"exercises\"\n"
     ]
    }
   ],
   "source": [
    "# Question 17- Write a Python program to find the substrings within a string.\n",
    "\n",
    "import re\n",
    "text = 'Python exercises, PHP exercises, C# exercises'\n",
    "pattern = 'exercises'\n",
    "for match in re.findall(pattern, text):\n",
    "    print('Found \"%s\"' % match)"
   ]
  },
  {
   "cell_type": "code",
   "execution_count": 20,
   "id": "40ec4d50",
   "metadata": {},
   "outputs": [
    {
     "name": "stdout",
     "output_type": "stream",
     "text": [
      "Found \"exercises\" at 7:16\n",
      "Found \"exercises\" at 22:31\n",
      "Found \"exercises\" at 36:45\n"
     ]
    }
   ],
   "source": [
    "# Question 18- Write a Python program to find the occurrence and position of the substrings within a string.\n",
    "\n",
    "import re\n",
    "text = 'Python exercises, PHP exercises, C# exercises'\n",
    "pattern = 'exercises'\n",
    "for match in re.finditer(pattern, text):\n",
    "    s = match.start()\n",
    "    e = match.end()\n",
    "    print('Found \"%s\" at %d:%d' % (text[s:e], s, e))\n"
   ]
  },
  {
   "cell_type": "code",
   "execution_count": 21,
   "id": "148c7f86",
   "metadata": {},
   "outputs": [
    {
     "name": "stdout",
     "output_type": "stream",
     "text": [
      "Original date in YYY-MM-DD Format:  2026-01-02\n",
      "New date in DD-MM-YYYY Format:  02-01-2026\n"
     ]
    }
   ],
   "source": [
    "# Question 19- Write a Python program to convert a date of yyyy-mm-dd format to dd-mm-yyyy format.\n",
    "\n",
    "import re\n",
    "def change_date_format(dt):\n",
    "        return re.sub(r'(\\d{4})-(\\d{1,2})-(\\d{1,2})', '\\\\3-\\\\2-\\\\1', dt)\n",
    "dt1 = \"2026-01-02\"\n",
    "print(\"Original date in YYY-MM-DD Format: \",dt1)\n",
    "print(\"New date in DD-MM-YYYY Format: \",change_date_format(dt1))"
   ]
  },
  {
   "cell_type": "code",
   "execution_count": 32,
   "id": "9bfa2533",
   "metadata": {},
   "outputs": [
    {
     "name": "stdout",
     "output_type": "stream",
     "text": [
      "['01.12', '145.8', '3.01', '27.25', '0.25']\n"
     ]
    }
   ],
   "source": [
    "# Question 20- Create a function in python to find all decimal numbers with a precision of 1 or 2 in a string. The use of the re.compile() method is mandatory.\n",
    "\n",
    "import re\n",
    "\n",
    "def find_decimal_numbers(text):\n",
    "    pattern = re.compile(r'\\b\\d+\\.\\d{1,2}\\b')\n",
    "    return pattern.findall(text)\n",
    "\n",
    "sample_text = \"01.12 0132.123 2.31875 145.8 3.01 27.25 0.25\"\n",
    "output = find_decimal_numbers(sample_text)\n",
    "\n",
    "print(output)"
   ]
  },
  {
   "cell_type": "code",
   "execution_count": 33,
   "id": "150b9b9e",
   "metadata": {},
   "outputs": [
    {
     "name": "stdout",
     "output_type": "stream",
     "text": [
      "Number: 123, Position: 3\n",
      "Number: 456, Position: 9\n",
      "Number: 789, Position: 15\n"
     ]
    }
   ],
   "source": [
    "# Question 21- Write a Python program to separate and print the numbers and their position of a given string.\n",
    "\n",
    "import re\n",
    "\n",
    "def extract_numbers(text):\n",
    "    pattern = re.compile(r'\\d+')\n",
    "    return [(match.group(), match.start()) for match in pattern.finditer(text)]\n",
    "\n",
    "input_string = \"abc123def456ghi789\"\n",
    "output = extract_numbers(input_string)\n",
    "\n",
    "for number, position in output:\n",
    "    print(f\"Number: {number}, Position: {position}\")"
   ]
  },
  {
   "cell_type": "code",
   "execution_count": 24,
   "id": "e100cf1f",
   "metadata": {},
   "outputs": [
    {
     "name": "stdout",
     "output_type": "stream",
     "text": [
      "950\n"
     ]
    }
   ],
   "source": [
    "# Question 22- Write a regular expression in python program to extract maximum/largest numeric value from a string.\n",
    "\n",
    "import re\n",
    "\n",
    "input_string = 'My marks in each semester are: 947, 896, 926, 524, 734, 950, 642'\n",
    "\n",
    "numeric_values = re.findall(r'\\d+', input_string)\n",
    "numeric_values = [int(value) for value in numeric_values]\n",
    "\n",
    "max_value = max(numeric_values)\n",
    "\n",
    "print(max_value)"
   ]
  },
  {
   "cell_type": "code",
   "execution_count": 25,
   "id": "86ceb451",
   "metadata": {},
   "outputs": [
    {
     "name": "stdout",
     "output_type": "stream",
     "text": [
      "Regular Expression Is An Important Topic In Python\n"
     ]
    }
   ],
   "source": [
    "# Question 23- Create a function in python to insert spaces between words starting with capital letters.\n",
    "\n",
    "import re\n",
    "\n",
    "def insert_spaces(text):\n",
    "  # Use regular expression to find words starting with capital letters\n",
    "  pattern = r'([A-Z][a-z]+)'\n",
    "  # Replace the found words with the same word followed by a space\n",
    "  result = re.sub(pattern, r' \\1', text)\n",
    "  # Remove any leading or trailing spaces\n",
    "  result = result.strip()\n",
    "  return result\n",
    "\n",
    "sample_text = \"RegularExpressionIsAnImportantTopicInPython\"\n",
    "output = insert_spaces(sample_text)\n",
    "print(output)"
   ]
  },
  {
   "cell_type": "code",
   "execution_count": 26,
   "id": "275659c0",
   "metadata": {},
   "outputs": [
    {
     "name": "stdout",
     "output_type": "stream",
     "text": [
      "['This', 'Sample', 'Text', 'Multiple', 'Matches']\n"
     ]
    }
   ],
   "source": [
    "# Question 24- Python regex to find sequences of one upper case letter followed by lower case letters\n",
    "\n",
    "import re\n",
    "\n",
    "pattern = r'[A-Z][a-z]+'\n",
    "text = \"This is a Sample Text with Multiple Matches\"\n",
    "\n",
    "matches = re.findall(pattern, text)\n",
    "print(matches)\n"
   ]
  },
  {
   "cell_type": "code",
   "execution_count": 27,
   "id": "9df609f6",
   "metadata": {},
   "outputs": [
    {
     "name": "stdout",
     "output_type": "stream",
     "text": [
      "Hello hello world\n"
     ]
    }
   ],
   "source": [
    "# Question 25- Write a Python program to remove continuous duplicate words from Sentence using Regular Expression.\n",
    "\n",
    "import re\n",
    "\n",
    "def remove_duplicates(sentence):\n",
    "  pattern = r'\\b(\\w+)(\\s+\\1\\b)+'\n",
    "  result = re.sub(pattern, r'\\1', sentence)\n",
    "  return result\n",
    "\n",
    "sentence = \"Hello hello world world\"\n",
    "output = remove_duplicates(sentence)\n",
    "print(output)"
   ]
  },
  {
   "cell_type": "code",
   "execution_count": 30,
   "id": "b365f094",
   "metadata": {},
   "outputs": [
    {
     "name": "stdout",
     "output_type": "stream",
     "text": [
      "True\n",
      "False\n"
     ]
    }
   ],
   "source": [
    "# Question 26-  Write a python program using RegEx to accept string ending with alphanumeric character.\n",
    "\n",
    "import re\n",
    "\n",
    "def check_string_end(s):\n",
    "    pattern = re.compile(r'.*[a-zA-Z0-9]$')\n",
    "    if pattern.match(s):\n",
    "        return True\n",
    "    else:\n",
    "        return False\n",
    "\n",
    "\n",
    "test_string = \"HelloWorld123\"\n",
    "print(check_string_end(test_string)) \n",
    "\n",
    "test_string = \"HelloWorld123!\"\n",
    "print(check_string_end(test_string))  "
   ]
  },
  {
   "cell_type": "code",
   "execution_count": 34,
   "id": "89f484e4",
   "metadata": {},
   "outputs": [
    {
     "name": "stdout",
     "output_type": "stream",
     "text": [
      "['#Doltiwal', '#xyzabc', '#Demonetization']\n"
     ]
    }
   ],
   "source": [
    "# Question 27-Write a python program using RegEx to extract the hashtags.\n",
    "\n",
    "sample_text = 'RT @kapil_kausik: #Doltiwal I mean #xyzabc is \"hurt\" by #Demonetization as the same has rendered USELESS <ed><U+00A0><U+00BD><ed><U+00B1><U+0089> \"acquired funds\" No wo'\n",
    "hashtags = re.findall(r'#\\w+', sample_text)\n",
    "print(hashtags)\n"
   ]
  },
  {
   "cell_type": "code",
   "execution_count": 38,
   "id": "81973d4a",
   "metadata": {},
   "outputs": [
    {
     "name": "stdout",
     "output_type": "stream",
     "text": [
      "@Jags123456 Bharat band on 28??<ed><ed>Those who  are protesting #demonetization  are all different party leaders\n"
     ]
    }
   ],
   "source": [
    "# Question 28- Write a python program using RegEx to remove <U+..> like symbols\n",
    "\n",
    "import re\n",
    "\n",
    "def remove_u_symbols(text):\n",
    "    return re.sub(r'<U\\+\\w+>', '', text)\n",
    "\n",
    "sample_text = \"@Jags123456 Bharat band on 28??<ed><U+00A0><U+00BD><ed><U+00B8><U+0082>Those who  are protesting #demonetization  are all different party leaders\"\n",
    "print(remove_u_symbols(sample_text))\n",
    "\n"
   ]
  },
  {
   "cell_type": "code",
   "execution_count": 31,
   "id": "b11e541b",
   "metadata": {},
   "outputs": [
    {
     "name": "stdout",
     "output_type": "stream",
     "text": [
      "['12-09-1992', '15-12-1999']\n"
     ]
    }
   ],
   "source": [
    "# Question 29- Write a python program to extract dates from the text stored in the text file.\n",
    "\n",
    "import re\n",
    "\n",
    "def extract_dates_from_file(file_path):\n",
    "    with open(file_path, 'r') as file:\n",
    "        text = file.read()\n",
    "    pattern = re.compile(r'\\b\\d{2}-\\d{2}-\\d{4}\\b')\n",
    "    return pattern.findall(text)\n",
    "\n",
    "sample_text = \"Ron was born on 12-09-1992 and he was admitted to school 15-12-1999.\"\n",
    "with open('sample.txt', 'w') as file:\n",
    "    \n",
    "# Extract dates\n",
    "print(extract_dates_from_file('sample.txt'))  # Output: ['12-09-1992', '15-12-1999']"
   ]
  },
  {
   "cell_type": "code",
   "execution_count": 1,
   "id": "74c4521b",
   "metadata": {},
   "outputs": [
    {
     "name": "stdout",
     "output_type": "stream",
     "text": [
      "following example creates  ArrayList  a capacity   elements. 4 elements   added   ArrayList   ArrayList  trimmed accordingly.\n"
     ]
    }
   ],
   "source": [
    "# Question 30- Create a function in python to remove all words from a string of length between 2 and 4.\n",
    "\n",
    "import re\n",
    "\n",
    "def remove_short_words(text):\n",
    "    pattern = re.compile(r'\\b\\w{2,4}\\b')\n",
    "    return pattern.sub('',text).strip()\n",
    "\n",
    "sample_text = \"The following example creates an ArrayList with a capacity of 50 elements. 4 elements are then added to the ArrayList and the ArrayList is trimmed accordingly.\"\n",
    "print(remove_short_words(sample_text))"
   ]
  },
  {
   "cell_type": "code",
   "execution_count": null,
   "id": "0f5f1f13",
   "metadata": {},
   "outputs": [],
   "source": []
  }
 ],
 "metadata": {
  "kernelspec": {
   "display_name": "Python 3 (ipykernel)",
   "language": "python",
   "name": "python3"
  },
  "language_info": {
   "codemirror_mode": {
    "name": "ipython",
    "version": 3
   },
   "file_extension": ".py",
   "mimetype": "text/x-python",
   "name": "python",
   "nbconvert_exporter": "python",
   "pygments_lexer": "ipython3",
   "version": "3.11.5"
  }
 },
 "nbformat": 4,
 "nbformat_minor": 5
}
